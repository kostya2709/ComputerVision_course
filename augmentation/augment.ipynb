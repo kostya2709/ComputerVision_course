{
 "cells": [
  {
   "cell_type": "code",
   "execution_count": 784,
   "metadata": {},
   "outputs": [],
   "source": [
    "import cv2\n",
    "import numpy as np\n",
    "from random import randint"
   ]
  },
  {
   "cell_type": "code",
   "execution_count": 785,
   "metadata": {},
   "outputs": [],
   "source": [
    "def resize(img, times):\n",
    "    new_width = int(img.shape[1] * times)\n",
    "    new_height = int(img.shape[0] * times)\n",
    "    return cv2.resize( img, (new_width, new_height), cv2.INTER_LANCZOS4)"
   ]
  },
  {
   "cell_type": "code",
   "execution_count": 786,
   "metadata": {},
   "outputs": [],
   "source": [
    "def attach_background(img, background):\n",
    "    \n",
    "    bg_height, bg_width, _ = background.shape\n",
    "    img_height, img_width, _ = img.shape\n",
    "    \n",
    "    assert( bg_height > img_height)\n",
    "    assert( bg_width > img_width)\n",
    "    \n",
    "    offset_var_x = (bg_width - img_width)   // 3\n",
    "    offset_var_y = (bg_height - img_height) // 3 \n",
    "    x_offset = (bg_width - img_width)   // 2 + randint(-offset_var_x, offset_var_x)\n",
    "    y_offset = (bg_height - img_height) // 2 + randint(-offset_var_y, offset_var_y)\n",
    "    res = background.copy()\n",
    "    res[y_offset:y_offset+img_height, x_offset:x_offset+img_width] = img\n",
    "\n",
    "    return res"
   ]
  },
  {
   "cell_type": "code",
   "execution_count": 800,
   "metadata": {},
   "outputs": [],
   "source": [
    "def add_noise(img):\n",
    "    mean = np.random.normal(0.2, 0.05)\n",
    "    var  = np.abs(np.random.normal(0.07, 0.05))\n",
    "    gauss_noise = (np.random.normal(mean, var, img.shape) * 255).astype(\"uint8\")\n",
    "    return cv2.add(img, gauss_noise)"
   ]
  },
  {
   "cell_type": "code",
   "execution_count": 788,
   "metadata": {},
   "outputs": [],
   "source": [
    "def random_line(img):\n",
    "    position = randint(0, img.shape[1])\n",
    "    width = randint(2, 4)\n",
    "    res = cv2.line(img, (position,0), (position,img.shape[0]), (50, 50, 50), width) \n",
    "    return res"
   ]
  },
  {
   "cell_type": "code",
   "execution_count": 789,
   "metadata": {},
   "outputs": [],
   "source": [
    "def perspective_transform(img):\n",
    "    img_height, img_width, _ = img.shape\n",
    "\n",
    "    vec_var = 0.15\n",
    "    vec1 = np.array([0, -1, 0]) + np.random.uniform(-vec_var, vec_var, 3)\n",
    "    vec2 = np.array([1, 0, 0])  + np.random.uniform(-vec_var, vec_var, 3)\n",
    "    vec1 = vec1 / np.linalg.norm(vec1) * (img_height / 2)\n",
    "    vec2 = vec2 / np.linalg.norm(vec2) * (img_width  / 2)\n",
    "    new_centre = np.array([img_width  / 2, img_height / 2, 0])\n",
    "    left_up    = (new_centre + vec1 - vec2)[:2]\n",
    "    left_down  = (new_centre - vec1 - vec2)[:2]\n",
    "    right_up   = (new_centre + vec1 + vec2)[:2]\n",
    "    right_down = (new_centre - vec1 + vec2)[:2]\n",
    "\n",
    "    pts1 = np.float32([[0, 0],          [img_width, 0],\n",
    "                       [0, img_height], [img_width, img_height]])\n",
    "    pts2 = np.float32([left_up,   right_up,\n",
    "                       left_down, right_down])\n",
    "\n",
    "    matrix = cv2.getPerspectiveTransform(pts1, pts2)\n",
    "    result = cv2.warpPerspective(img, matrix, (img_width, img_height))\n",
    "\n",
    "    left_x  = int(max(left_up[0], left_down[0]))\n",
    "    right_x = int(min(right_up[0], right_down[0]))\n",
    "    up_y    = int(max(left_up[1], right_up[1]))\n",
    "    down_y  = int(min(left_down[1], right_down[1]))\n",
    "\n",
    "    result = result[up_y:down_y, left_x:right_x]\n",
    "\n",
    "    return result"
   ]
  },
  {
   "cell_type": "code",
   "execution_count": 790,
   "metadata": {},
   "outputs": [],
   "source": [
    "def change_light(img):\n",
    "    img_height, img_width, _ = img.shape\n",
    "    centre_x = randint( int(-img_width * 0.2), int(img_width * 1.2))\n",
    "    centre_y = randint( int(-img_height * 0.2), int(img_height * 1.2))\n",
    "    light_centre = np.array([centre_x, centre_y])\n",
    "    max_val = 2\n",
    "    speed = -0.0015\n",
    "    for y in range(0, img_height):\n",
    "         for x in range(0, img_width):\n",
    "            dist = np.linalg.norm(np.array([x, y]) - light_centre)\n",
    "            brightness = speed * dist + max_val\n",
    "            res = np.clip(img[y, x] * brightness, 0, 255)\n",
    "            img[y, x] = res\n",
    "    return img"
   ]
  },
  {
   "cell_type": "code",
   "execution_count": 791,
   "metadata": {},
   "outputs": [],
   "source": [
    "def generate(img, background):\n",
    "    background = resize(background, 2.3)\n",
    "    img = resize(img, 0.25)\n",
    "\n",
    "    img = cv2.GaussianBlur(img,(3,3), 0.1)\n",
    "\n",
    "    if randint(0, 100) < 70:\n",
    "        img = add_noise(img)\n",
    "\n",
    "    if randint(0, 100) < 30:\n",
    "        img = random_line(img)\n",
    "\n",
    "    res = attach_background(img, background)\n",
    "    res = perspective_transform(res)\n",
    "    \n",
    "    if randint(0, 100) < 40:\n",
    "        res = change_light(res)\n",
    "    \n",
    "    return res"
   ]
  },
  {
   "cell_type": "code",
   "execution_count": 802,
   "metadata": {},
   "outputs": [],
   "source": [
    "def generate_loop():\n",
    "    mul_num = 10\n",
    "    res_num = 127\n",
    "    for img_id in range(1, 1):\n",
    "        for _ in range(mul_num):\n",
    "            img = cv2.imread(f'./docs/{img_id}.png')\n",
    "            bg_id = randint(1, 1)\n",
    "            background = cv2.imread(f'./background/{bg_id}.jpg') \n",
    "            res = generate(img, background)\n",
    "            cv2.imwrite(f'./generated_photos/{res_num}.png', res)\n",
    "            res_num += 1"
   ]
  },
  {
   "cell_type": "code",
   "execution_count": 803,
   "metadata": {},
   "outputs": [
    {
     "ename": "KeyboardInterrupt",
     "evalue": "",
     "output_type": "error",
     "traceback": [
      "\u001b[0;31m---------------------------------------------------------------------------\u001b[0m",
      "\u001b[0;31mKeyboardInterrupt\u001b[0m                         Traceback (most recent call last)",
      "Cell \u001b[0;32mIn[803], line 1\u001b[0m\n\u001b[0;32m----> 1\u001b[0m generate_loop()\n",
      "Cell \u001b[0;32mIn[802], line 9\u001b[0m, in \u001b[0;36mgenerate_loop\u001b[0;34m()\u001b[0m\n\u001b[1;32m      7\u001b[0m bg_id \u001b[39m=\u001b[39m randint(\u001b[39m1\u001b[39m, \u001b[39m10\u001b[39m)\n\u001b[1;32m      8\u001b[0m background \u001b[39m=\u001b[39m cv2\u001b[39m.\u001b[39mimread(\u001b[39mf\u001b[39m\u001b[39m'\u001b[39m\u001b[39m./background/\u001b[39m\u001b[39m{\u001b[39;00mbg_id\u001b[39m}\u001b[39;00m\u001b[39m.jpg\u001b[39m\u001b[39m'\u001b[39m) \n\u001b[0;32m----> 9\u001b[0m res \u001b[39m=\u001b[39m generate(img, background)\n\u001b[1;32m     10\u001b[0m cv2\u001b[39m.\u001b[39mimwrite(\u001b[39mf\u001b[39m\u001b[39m'\u001b[39m\u001b[39m./generated_photos/\u001b[39m\u001b[39m{\u001b[39;00mres_num\u001b[39m}\u001b[39;00m\u001b[39m.png\u001b[39m\u001b[39m'\u001b[39m, res)\n\u001b[1;32m     11\u001b[0m res_num \u001b[39m+\u001b[39m\u001b[39m=\u001b[39m \u001b[39m1\u001b[39m\n",
      "Cell \u001b[0;32mIn[791], line 17\u001b[0m, in \u001b[0;36mgenerate\u001b[0;34m(img, background)\u001b[0m\n\u001b[1;32m     14\u001b[0m res \u001b[39m=\u001b[39m perspective_transform(res)\n\u001b[1;32m     16\u001b[0m \u001b[39mif\u001b[39;00m randint(\u001b[39m0\u001b[39m, \u001b[39m100\u001b[39m) \u001b[39m<\u001b[39m \u001b[39m40\u001b[39m:\n\u001b[0;32m---> 17\u001b[0m     res \u001b[39m=\u001b[39m change_light(res)\n\u001b[1;32m     19\u001b[0m \u001b[39mreturn\u001b[39;00m res\n",
      "Cell \u001b[0;32mIn[790], line 12\u001b[0m, in \u001b[0;36mchange_light\u001b[0;34m(img)\u001b[0m\n\u001b[1;32m     10\u001b[0m         dist \u001b[39m=\u001b[39m np\u001b[39m.\u001b[39mlinalg\u001b[39m.\u001b[39mnorm(np\u001b[39m.\u001b[39marray([x, y]) \u001b[39m-\u001b[39m light_centre)\n\u001b[1;32m     11\u001b[0m         brightness \u001b[39m=\u001b[39m speed \u001b[39m*\u001b[39m dist \u001b[39m+\u001b[39m max_val\n\u001b[0;32m---> 12\u001b[0m         res \u001b[39m=\u001b[39m np\u001b[39m.\u001b[39;49mclip(img[y, x] \u001b[39m*\u001b[39;49m brightness, \u001b[39m0\u001b[39;49m, \u001b[39m255\u001b[39;49m)\n\u001b[1;32m     13\u001b[0m         img[y, x] \u001b[39m=\u001b[39m res\n\u001b[1;32m     14\u001b[0m \u001b[39mreturn\u001b[39;00m img\n",
      "File \u001b[0;32m<__array_function__ internals>:180\u001b[0m, in \u001b[0;36mclip\u001b[0;34m(*args, **kwargs)\u001b[0m\n",
      "File \u001b[0;32m~/.local/lib/python3.9/site-packages/numpy/core/fromnumeric.py:2154\u001b[0m, in \u001b[0;36mclip\u001b[0;34m(a, a_min, a_max, out, **kwargs)\u001b[0m\n\u001b[1;32m   2085\u001b[0m \u001b[39m@array_function_dispatch\u001b[39m(_clip_dispatcher)\n\u001b[1;32m   2086\u001b[0m \u001b[39mdef\u001b[39;00m \u001b[39mclip\u001b[39m(a, a_min, a_max, out\u001b[39m=\u001b[39m\u001b[39mNone\u001b[39;00m, \u001b[39m*\u001b[39m\u001b[39m*\u001b[39mkwargs):\n\u001b[1;32m   2087\u001b[0m     \u001b[39m\"\"\"\u001b[39;00m\n\u001b[1;32m   2088\u001b[0m \u001b[39m    Clip (limit) the values in an array.\u001b[39;00m\n\u001b[1;32m   2089\u001b[0m \n\u001b[0;32m   (...)\u001b[0m\n\u001b[1;32m   2152\u001b[0m \n\u001b[1;32m   2153\u001b[0m \u001b[39m    \"\"\"\u001b[39;00m\n\u001b[0;32m-> 2154\u001b[0m     \u001b[39mreturn\u001b[39;00m _wrapfunc(a, \u001b[39m'\u001b[39;49m\u001b[39mclip\u001b[39;49m\u001b[39m'\u001b[39;49m, a_min, a_max, out\u001b[39m=\u001b[39;49mout, \u001b[39m*\u001b[39;49m\u001b[39m*\u001b[39;49mkwargs)\n",
      "File \u001b[0;32m~/.local/lib/python3.9/site-packages/numpy/core/fromnumeric.py:57\u001b[0m, in \u001b[0;36m_wrapfunc\u001b[0;34m(obj, method, *args, **kwds)\u001b[0m\n\u001b[1;32m     54\u001b[0m     \u001b[39mreturn\u001b[39;00m _wrapit(obj, method, \u001b[39m*\u001b[39margs, \u001b[39m*\u001b[39m\u001b[39m*\u001b[39mkwds)\n\u001b[1;32m     56\u001b[0m \u001b[39mtry\u001b[39;00m:\n\u001b[0;32m---> 57\u001b[0m     \u001b[39mreturn\u001b[39;00m bound(\u001b[39m*\u001b[39;49margs, \u001b[39m*\u001b[39;49m\u001b[39m*\u001b[39;49mkwds)\n\u001b[1;32m     58\u001b[0m \u001b[39mexcept\u001b[39;00m \u001b[39mTypeError\u001b[39;00m:\n\u001b[1;32m     59\u001b[0m     \u001b[39m# A TypeError occurs if the object does have such a method in its\u001b[39;00m\n\u001b[1;32m     60\u001b[0m     \u001b[39m# class, but its signature is not identical to that of NumPy's. This\u001b[39;00m\n\u001b[0;32m   (...)\u001b[0m\n\u001b[1;32m     64\u001b[0m     \u001b[39m# Call _wrapit from within the except clause to ensure a potential\u001b[39;00m\n\u001b[1;32m     65\u001b[0m     \u001b[39m# exception has a traceback chain.\u001b[39;00m\n\u001b[1;32m     66\u001b[0m     \u001b[39mreturn\u001b[39;00m _wrapit(obj, method, \u001b[39m*\u001b[39margs, \u001b[39m*\u001b[39m\u001b[39m*\u001b[39mkwds)\n",
      "File \u001b[0;32m~/.local/lib/python3.9/site-packages/numpy/core/_methods.py:160\u001b[0m, in \u001b[0;36m_clip\u001b[0;34m(a, min, max, out, casting, **kwargs)\u001b[0m\n\u001b[1;32m    157\u001b[0m     \u001b[39mreturn\u001b[39;00m _clip_dep_invoke_with_casting(\n\u001b[1;32m    158\u001b[0m         um\u001b[39m.\u001b[39mmaximum, a, \u001b[39mmin\u001b[39m, out\u001b[39m=\u001b[39mout, casting\u001b[39m=\u001b[39mcasting, \u001b[39m*\u001b[39m\u001b[39m*\u001b[39mkwargs)\n\u001b[1;32m    159\u001b[0m \u001b[39melse\u001b[39;00m:\n\u001b[0;32m--> 160\u001b[0m     \u001b[39mreturn\u001b[39;00m _clip_dep_invoke_with_casting(\n\u001b[1;32m    161\u001b[0m         um\u001b[39m.\u001b[39;49mclip, a, \u001b[39mmin\u001b[39;49m, \u001b[39mmax\u001b[39;49m, out\u001b[39m=\u001b[39;49mout, casting\u001b[39m=\u001b[39;49mcasting, \u001b[39m*\u001b[39;49m\u001b[39m*\u001b[39;49mkwargs)\n",
      "File \u001b[0;32m~/.local/lib/python3.9/site-packages/numpy/core/_methods.py:114\u001b[0m, in \u001b[0;36m_clip_dep_invoke_with_casting\u001b[0;34m(ufunc, out, casting, *args, **kwargs)\u001b[0m\n\u001b[1;32m    112\u001b[0m \u001b[39m# try to deal with broken casting rules\u001b[39;00m\n\u001b[1;32m    113\u001b[0m \u001b[39mtry\u001b[39;00m:\n\u001b[0;32m--> 114\u001b[0m     \u001b[39mreturn\u001b[39;00m ufunc(\u001b[39m*\u001b[39;49margs, out\u001b[39m=\u001b[39;49mout, \u001b[39m*\u001b[39;49m\u001b[39m*\u001b[39;49mkwargs)\n\u001b[1;32m    115\u001b[0m \u001b[39mexcept\u001b[39;00m _exceptions\u001b[39m.\u001b[39m_UFuncOutputCastingError \u001b[39mas\u001b[39;00m e:\n\u001b[1;32m    116\u001b[0m     \u001b[39m# Numpy 1.17.0, 2019-02-24\u001b[39;00m\n\u001b[1;32m    117\u001b[0m     warnings\u001b[39m.\u001b[39mwarn(\n\u001b[1;32m    118\u001b[0m         \u001b[39m\"\u001b[39m\u001b[39mConverting the output of clip from \u001b[39m\u001b[39m{!r}\u001b[39;00m\u001b[39m to \u001b[39m\u001b[39m{!r}\u001b[39;00m\u001b[39m is deprecated. \u001b[39m\u001b[39m\"\u001b[39m\n\u001b[1;32m    119\u001b[0m         \u001b[39m\"\u001b[39m\u001b[39mPass `casting=\u001b[39m\u001b[39m\\\"\u001b[39;00m\u001b[39munsafe\u001b[39m\u001b[39m\\\"\u001b[39;00m\u001b[39m` explicitly to silence this warning, or \u001b[39m\u001b[39m\"\u001b[39m\n\u001b[0;32m   (...)\u001b[0m\n\u001b[1;32m    122\u001b[0m         stacklevel\u001b[39m=\u001b[39m\u001b[39m2\u001b[39m\n\u001b[1;32m    123\u001b[0m     )\n",
      "\u001b[0;31mKeyboardInterrupt\u001b[0m: "
     ]
    }
   ],
   "source": [
    "generate_loop()"
   ]
  }
 ],
 "metadata": {
  "kernelspec": {
   "display_name": "Python 3",
   "language": "python",
   "name": "python3"
  },
  "language_info": {
   "codemirror_mode": {
    "name": "ipython",
    "version": 3
   },
   "file_extension": ".py",
   "mimetype": "text/x-python",
   "name": "python",
   "nbconvert_exporter": "python",
   "pygments_lexer": "ipython3",
   "version": "3.9.12"
  },
  "orig_nbformat": 4
 },
 "nbformat": 4,
 "nbformat_minor": 2
}
