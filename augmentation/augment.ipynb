{
 "cells": [
  {
   "cell_type": "code",
   "execution_count": 1414,
   "metadata": {},
   "outputs": [],
   "source": [
    "import cv2\n",
    "import numpy as np\n",
    "from random import randint"
   ]
  },
  {
   "cell_type": "code",
   "execution_count": 1415,
   "metadata": {},
   "outputs": [],
   "source": [
    "def resize(img, times):\n",
    "    new_width = int(img.shape[1] * times)\n",
    "    new_height = int(img.shape[0] * times)\n",
    "    return cv2.resize( img, (new_width, new_height), cv2.INTER_LANCZOS4)"
   ]
  },
  {
   "cell_type": "code",
   "execution_count": 1416,
   "metadata": {},
   "outputs": [],
   "source": [
    "def attach_background(img, background):\n",
    "\n",
    "    bg_height,  bg_width,  _ = background.shape\n",
    "    img_height, img_width, _ = img.shape\n",
    "    \n",
    "    assert( bg_height > img_height)\n",
    "    assert( bg_width > img_width)\n",
    "    \n",
    "    offset_var_x = (bg_width - img_width)   // 4\n",
    "    offset_var_y = (bg_height - img_height) // 4\n",
    "    x_offset = (bg_width - img_width)   // 2 + randint(-offset_var_x, offset_var_x)\n",
    "    y_offset = (bg_height - img_height) // 2 + randint(-offset_var_y, offset_var_y)\n",
    "    res = background.copy()\n",
    "    res[y_offset:y_offset+img_height, x_offset:x_offset+img_width] = img\n",
    "\n",
    "    return res"
   ]
  },
  {
   "cell_type": "code",
   "execution_count": 1417,
   "metadata": {},
   "outputs": [],
   "source": [
    "def add_noise(img):\n",
    "    mean = np.random.normal(0.25, 0.05)\n",
    "    var  = np.abs(np.random.normal(0.075, 0.05))\n",
    "    gauss_noise = (np.random.normal(mean, var, img.shape) * 255).astype(\"uint8\")\n",
    "    return cv2.add(img, gauss_noise)"
   ]
  },
  {
   "cell_type": "code",
   "execution_count": 1418,
   "metadata": {},
   "outputs": [],
   "source": [
    "def random_line(img):\n",
    "    position = randint(0, img.shape[1])\n",
    "    width = randint(2, 4)\n",
    "    res = cv2.line(img, (position,0), (position,img.shape[0]), (50, 50, 50), width) \n",
    "    return res"
   ]
  },
  {
   "cell_type": "code",
   "execution_count": 1419,
   "metadata": {},
   "outputs": [
    {
     "name": "stdout",
     "output_type": "stream",
     "text": [
      "[3 8]\n"
     ]
    }
   ],
   "source": [
    "a = np.array([1, 2])\n",
    "b = np.array([3, 4])\n",
    "print(a * b)"
   ]
  },
  {
   "cell_type": "code",
   "execution_count": 1420,
   "metadata": {},
   "outputs": [],
   "source": [
    "def proj( point, eye):\n",
    "    delta = point - eye\n",
    "    assert(delta[2] > 1e-3)\n",
    "    param = -eye[2] / delta[2]\n",
    "    proj = delta * param + eye\n",
    "    return proj[:2]\n",
    "\n",
    "def perspective_transform(img):\n",
    "    img_height, img_width, _ = img.shape\n",
    "\n",
    "    vec_var = 0.15\n",
    "    vec1 = np.array([0, -1, 0]) + np.random.uniform(-vec_var, vec_var, 3)\n",
    "    vec2 = np.array([1, 0, 0])  + np.random.uniform(-vec_var, vec_var, 3)\n",
    "    vec1 = vec1 / np.linalg.norm(vec1) * (img_height / 2)\n",
    "    vec2 = vec2 / np.linalg.norm(vec2) * (img_width  / 2)\n",
    "    depth = max(img_width, img_height) / 2\n",
    "    new_centre = np.array([img_width  / 2, img_height / 2, depth // 2])\n",
    "    left_up    = new_centre + vec1 - vec2\n",
    "    left_down  = new_centre - vec1 - vec2\n",
    "    right_up   = new_centre + vec1 + vec2\n",
    "    right_down = new_centre - vec1 + vec2\n",
    "\n",
    "    eye_pos    = np.array([img_width  / 2, img_height / 2, -depth // 2])\n",
    "    left_up    = proj(left_up, eye_pos)\n",
    "    left_down  = proj(left_down, eye_pos)\n",
    "    right_up   = proj(right_up, eye_pos)\n",
    "    right_down = proj(right_down, eye_pos)\n",
    "\n",
    "    pts1 = np.float32([[0, 0],          [img_width, 0],\n",
    "                       [0, img_height], [img_width, img_height]])\n",
    "    pts2 = np.float32([left_up,   right_up,\n",
    "                       left_down, right_down])\n",
    "\n",
    "    matrix = cv2.getPerspectiveTransform(pts1, pts2)\n",
    "    result = cv2.warpPerspective(img, matrix, (img_width, img_height))\n",
    "\n",
    "    left_x  = int(max(left_up[0], left_down[0]))\n",
    "    right_x = int(min(right_up[0], right_down[0]))\n",
    "    up_y    = int(max(left_up[1], right_up[1]))\n",
    "    down_y  = int(min(left_down[1], right_down[1]))\n",
    "\n",
    "    result = result[up_y:down_y, left_x:right_x]\n",
    "\n",
    "    return result"
   ]
  },
  {
   "cell_type": "code",
   "execution_count": 1421,
   "metadata": {},
   "outputs": [],
   "source": [
    "def change_light(img):\n",
    "    img_height, img_width, _ = img.shape\n",
    "    centre_x = randint( int(-img_width * 0.2), int(img_width * 1.2))\n",
    "    centre_y = randint( int(-img_height * 0.2), int(img_height * 1.2))\n",
    "    light_centre = np.array([centre_x, centre_y])\n",
    "    max_val = 2\n",
    "    speed = -0.0015\n",
    "    for y in range(0, img_height):\n",
    "         for x in range(0, img_width):\n",
    "            dist = np.linalg.norm(np.array([x, y]) - light_centre)\n",
    "            brightness = speed * dist + max_val\n",
    "            res = np.clip(img[y, x] * brightness, 0, 255)\n",
    "            img[y, x] = res\n",
    "    return img"
   ]
  },
  {
   "cell_type": "code",
   "execution_count": 1422,
   "metadata": {},
   "outputs": [],
   "source": [
    "def generate(img, background):\n",
    "\n",
    "    img = img[10:img.shape[0]-20, 10:img.shape[1]-20]\n",
    "\n",
    "    angle = 0 # randint(-10, 10)\n",
    "    background_center = tuple(np.array(background.shape[1::-1]) / 2)\n",
    "    rot_mat = cv2.getRotationMatrix2D(background_center, angle, 1.0)\n",
    "    background = cv2.warpAffine(background, rot_mat, background.shape[1::-1], flags=cv2.INTER_LINEAR)\n",
    "\n",
    "    bg_height,  bg_width,  _ = background.shape\n",
    "    img_height, img_width, _ = img.shape\n",
    "\n",
    "    if img_height > img_width and bg_height < bg_width or \\\n",
    "       img_height < img_width and bg_height > bg_width:\n",
    "        background = cv2.rotate(background, cv2.ROTATE_90_CLOCKWISE)\n",
    "        bg_height,  bg_width,  _ = background.shape\n",
    "\n",
    "    best_proportion = 1.2\n",
    "\n",
    "    x_prop = bg_width / img_width\n",
    "    y_prop = bg_height / img_height\n",
    "    min_prop = min(x_prop, y_prop)\n",
    "    bg_scale = best_proportion / min_prop\n",
    "    \n",
    "    background = resize(background, bg_scale)\n",
    "\n",
    "    blur_prob = randint(0, 100)\n",
    "    if blur_prob < 40:\n",
    "        img = add_noise(img)\n",
    "    elif blur_prob < 80:\n",
    "        kernel_sz = randint(7, 13)\n",
    "        if kernel_sz % 2 == 0:\n",
    "            kernel_sz += 1\n",
    "        img = cv2.GaussianBlur(img, (kernel_sz, kernel_sz), cv2.BORDER_TRANSPARENT)\n",
    "\n",
    "    if randint(0, 100) < 30:\n",
    "        img = random_line(img)\n",
    "\n",
    "    res = attach_background(img, background)\n",
    "    res = cv2.GaussianBlur(res, (7, 7), cv2.BORDER_TRANSPARENT)\n",
    "    res = perspective_transform(res)\n",
    "    \n",
    "    if randint(0, 100) < 40:\n",
    "        res = change_light(res)\n",
    "    \n",
    "    return res"
   ]
  },
  {
   "cell_type": "code",
   "execution_count": 1423,
   "metadata": {},
   "outputs": [],
   "source": [
    "def generate_loop():\n",
    "    mul_num = 10\n",
    "    res_num = 91\n",
    "    for img_id in range(10, 11):\n",
    "        print(res_num)\n",
    "        for _ in range(mul_num):\n",
    "            img = cv2.imread(f'./docs/{img_id}.png')\n",
    "            bg_id = randint(1, 10)\n",
    "            background = cv2.imread(f'./background/{bg_id}.jpg') \n",
    "            res = generate(img, background)\n",
    "            cv2.imwrite(f'./generated_photos/{res_num}.png', res)\n",
    "            res_num += 1"
   ]
  },
  {
   "cell_type": "code",
   "execution_count": 1424,
   "metadata": {},
   "outputs": [
    {
     "name": "stdout",
     "output_type": "stream",
     "text": [
      "91\n"
     ]
    }
   ],
   "source": [
    "generate_loop()"
   ]
  }
 ],
 "metadata": {
  "kernelspec": {
   "display_name": "Python 3",
   "language": "python",
   "name": "python3"
  },
  "language_info": {
   "codemirror_mode": {
    "name": "ipython",
    "version": 3
   },
   "file_extension": ".py",
   "mimetype": "text/x-python",
   "name": "python",
   "nbconvert_exporter": "python",
   "pygments_lexer": "ipython3",
   "version": "3.9.12"
  },
  "orig_nbformat": 4
 },
 "nbformat": 4,
 "nbformat_minor": 2
}
